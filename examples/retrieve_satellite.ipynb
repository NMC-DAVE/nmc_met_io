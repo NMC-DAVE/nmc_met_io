{
 "cells": [
  {
   "cell_type": "markdown",
   "id": "a4641c58-14f3-4e58-af01-3ed5cd2b8867",
   "metadata": {
    "tags": []
   },
   "source": [
    "# 读取风云卫星数据"
   ]
  },
  {
   "cell_type": "code",
   "execution_count": 1,
   "id": "3b5bee50-0cae-47c6-9244-144ed1748708",
   "metadata": {},
   "outputs": [],
   "source": [
    "# set up things\n",
    "%matplotlib inline\n",
    "%load_ext autoreload\n",
    "%autoreload 2\n",
    "\n",
    "import warnings\n",
    "warnings.filterwarnings('ignore')"
   ]
  },
  {
   "cell_type": "code",
   "execution_count": 6,
   "id": "1d813531-0813-4747-8066-c9cccad38773",
   "metadata": {},
   "outputs": [],
   "source": [
    "import numpy as np\n",
    "\n",
    "from nmc_met_io.read_satellite import read_awx_cloud"
   ]
  },
  {
   "cell_type": "code",
   "execution_count": 3,
   "id": "642923ce-9879-4599-83dc-de3b051aeac8",
   "metadata": {},
   "outputs": [],
   "source": [
    "headinfo, data = read_awx_cloud(\"./samples/ANI_IR1_R04_20220331_2100_FY2G.AWX\")"
   ]
  },
  {
   "cell_type": "code",
   "execution_count": 8,
   "id": "2e4b15c0-73fc-4df0-98fc-c974778c2334",
   "metadata": {},
   "outputs": [
    {
     "data": {
      "text/plain": [
       "68"
      ]
     },
     "execution_count": 8,
     "metadata": {},
     "output_type": "execute_result"
    }
   ],
   "source": [
    "np.min(data)"
   ]
  },
  {
   "cell_type": "code",
   "execution_count": 10,
   "id": "0c0fe240-f92b-429d-b7c1-479d00b1537b",
   "metadata": {},
   "outputs": [
    {
     "data": {
      "text/plain": [
       "array([1], dtype=int16)"
      ]
     },
     "execution_count": 10,
     "metadata": {},
     "output_type": "execute_result"
    }
   ],
   "source": [
    "headinfo['productCategory']"
   ]
  }
 ],
 "metadata": {
  "kernelspec": {
   "display_name": "Meteorology with Python",
   "language": "python",
   "name": "met"
  },
  "language_info": {
   "codemirror_mode": {
    "name": "ipython",
    "version": 3
   },
   "file_extension": ".py",
   "mimetype": "text/x-python",
   "name": "python",
   "nbconvert_exporter": "python",
   "pygments_lexer": "ipython3",
   "version": "3.9.12"
  },
  "widgets": {
   "application/vnd.jupyter.widget-state+json": {
    "state": {},
    "version_major": 2,
    "version_minor": 0
   }
  }
 },
 "nbformat": 4,
 "nbformat_minor": 5
}
